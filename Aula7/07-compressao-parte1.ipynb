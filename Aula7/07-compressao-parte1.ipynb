{
 "cells": [
  {
   "attachments": {},
   "cell_type": "markdown",
   "metadata": {},
   "source": [
    "# Capítulo 7\n",
    "\n",
    "# Parte 1"
   ]
  },
  {
   "attachments": {},
   "cell_type": "markdown",
   "metadata": {},
   "source": [
    "# Exercício 1\n",
    "*Objetivo: contar probabilidades de caracteres em uma string*\n",
    "\n",
    "Uma característica importante de textos em linguagem natural é que a probabilidade de ocorrência de cada um dos caracteres não é a mesma. Isso significa que, por exemplo, em português, é muito mais comum encontrarmos a letra \"A\" que a letra \"W\" em uma palavra.\n",
    "\n",
    "Então, podemos calcular a probabilidade: $P(\\text{letra} | \\text{texto})$, que é a probabilidade de, ao selecionarmos um caractere aleatório de um texto, encontrarmos a letra correspondente. Por exemplo, o código abaixo calcula $P(a|\\text{texto})$:"
   ]
  },
  {
   "cell_type": "code",
   "execution_count": 1,
   "metadata": {},
   "outputs": [],
   "source": [
    "texto = \"\"\"SERIA SO SAUDADE\"\"\""
   ]
  },
  {
   "cell_type": "code",
   "execution_count": 2,
   "metadata": {},
   "outputs": [
    {
     "name": "stdout",
     "output_type": "stream",
     "text": [
      "0.1875\n"
     ]
    }
   ],
   "source": [
    "n_a = texto.count('A')\n",
    "N_total = len(texto)\n",
    "P_a_texto = n_a/N_total\n",
    "print(P_a_texto)"
   ]
  },
  {
   "attachments": {},
   "cell_type": "markdown",
   "metadata": {},
   "source": [
    "Podemos saber quais caracteres existem em uma string transformando-a em um `set`, como abaixo. \n",
    "\n",
    "Com base no código que já fizemos, faça um código para calcular P(letra|texto) para todos os caracteres da string. Após, use o código de exemplo (está comentado, logo abaixo) para gerar um bar plot das probabilidades que você calculou."
   ]
  },
  {
   "cell_type": "code",
   "execution_count": 3,
   "metadata": {},
   "outputs": [
    {
     "name": "stdout",
     "output_type": "stream",
     "text": [
      "{'R', ' ', 'E', 'U', 'D', 'S', 'I', 'A', 'O'}\n",
      "['R', ' ', 'E', 'U', 'D', 'S', 'I', 'A', 'O']\n"
     ]
    }
   ],
   "source": [
    "caracteres_unicos = set(texto)\n",
    "print(caracteres_unicos)\n",
    "\n",
    "caracteres = list(caracteres_unicos)\n",
    "print(caracteres)"
   ]
  },
  {
   "cell_type": "code",
   "execution_count": 4,
   "metadata": {},
   "outputs": [
    {
     "data": {
      "image/png": "[encoded data removed]",
      "text/plain": [
       "<Figure size 640x480 with 1 Axes>"
      ]
     },
     "metadata": {},
     "output_type": "display_data"
    }
   ],
   "source": [
    "probs = []\n",
    "\n",
    "for c in caracteres_unicos:\n",
    "    n_c = texto.count(c)\n",
    "    probs.append(n_c/N_total)\n",
    "\n",
    "import matplotlib.pyplot as plt\n",
    "\n",
    "plt.figure()\n",
    "plt.bar(caracteres, probs)\n",
    "plt.show()"
   ]
  },
  {
   "attachments": {},
   "cell_type": "markdown",
   "metadata": {},
   "source": [
    "## Exercício 2\n",
    "*Objetivo: entender o que é codificação e suas implicações*\n",
    "\n",
    "Quando nos comunicamos por escrito, usamos símbolos como \"a\", \"b\" ou \"c\". Esses símbolos fazem parte de um conjunto de símbolos válidos que é chamado de \"alfabeto\". O processo de codificação significa encontrar a correspondência entre símbolos de um alfabeto para outro. Um exemplo disso é quando usamos bytes para representar letras (como na tabela ASCII): nesse caso, temos um alfabeto de 256 combinações de bits que está sendo mapeado para símbolos do alfabeto usual.\n",
    "\n",
    "1. Se usamos 1 byte para representar cada letra, quantos bytes são necessários para codificar a palavra BANANA?\n",
    "1. Porém, se tivermos uma codificação de tamanho variável, em que B é codificado por 3 bits, N em 5 bits, a A em 12 bits, quantos bytes precisaríamos para codificar BANANA?\n",
    "1. Se tivermos uma codificação de tamanho variável, em que B é codificado por 12 bits, N em 8 bits, a A em 3 bits, quantos bytes precisaríamos para codificar BANANA?\n",
    "1. Se quisermos encontrar um código de tamanho variável para representar nosso texto de tal forma que o tamanho total do código seja mínimo, qual deve ser a relação entre o tamanho da codificação de cada caractere e a sua frequência de ocorrência?"
   ]
  },
  {
   "attachments": {},
   "cell_type": "markdown",
   "metadata": {},
   "source": [
    "## Exercício 3\n",
    "*Objetivo: entender o algoritmo subjacente ao código de Huffman*\n",
    "\n",
    "Uma das maneiras de encontrar códigos de tamanho mínimo para uma string inteira é usar o algoritmo de Huffman. A ideia do algoritmo é a seguinte:\n",
    "\n",
    "1. Calculamos a probabilidade de encontrar cada um dos símbolos da string\n",
    "1. Ordenamos os símbolos em ordem crescente de sua probabilidade de ocorrência, e colocamos esses símbolos numa lista\n",
    "1. Tiramos os dois elementos de menor probabilidade da lista e unimos ambos em um terceiro, que tem probabilidade igual à soma das probabilidades dos elementos retirados.\n",
    "1. Inserimos esse novo elemento na lista\n",
    "1. Se há mais de um elemento na lista, voltamos ao passo 2.\n",
    "\n",
    "Usando essa explicação do algoritmo, e sua implementação abaixo, desenhe (na lousa ou no papel!) a árvore que aparece quando tentamos representar as strings:\n",
    "\n",
    "1. BANANA\n",
    "1. BATMAN\n",
    "1. ABACATE\n",
    "1. ABCD"
   ]
  },
  {
   "cell_type": "code",
   "execution_count": 5,
   "metadata": {},
   "outputs": [
    {
     "name": "stdout",
     "output_type": "stream",
     "text": [
      "{'filho_0': {'prob': 0.3333333333333333, 'valor': 'A'},\n",
      " 'filho_1': {'filho_0': {'filho_0': {'prob': 0.16666666666666666, 'valor': 'N'},\n",
      "                         'filho_1': {'prob': 0.16666666666666666, 'valor': 'M'},\n",
      "                         'prob': 0.3333333333333333,\n",
      "                         'valor': 'NM'},\n",
      "             'filho_1': {'filho_0': {'prob': 0.16666666666666666, 'valor': 'B'},\n",
      "                         'filho_1': {'prob': 0.16666666666666666, 'valor': 'T'},\n",
      "                         'prob': 0.3333333333333333,\n",
      "                         'valor': 'BT'},\n",
      "             'prob': 0.6666666666666666,\n",
      "             'valor': 'NMBT'},\n",
      " 'prob': 1.0,\n",
      " 'valor': 'ANMBT'}\n"
     ]
    }
   ],
   "source": [
    "def huffman_tree(texto : str):\n",
    "    \"\"\"Monta a arvore de codificacao usando o algoritmo de huffman\"\"\"\n",
    "    def get_prob(item):\n",
    "        return item['prob']\n",
    "\n",
    "    f = []\n",
    "\n",
    "    # Calcula probabilidade de cada caractere      \n",
    "    for c in set(texto):\n",
    "        f.append(  {'prob':texto.count(c)/len(texto), 'valor':c} )\n",
    "    f.sort(key=get_prob)\n",
    "    \n",
    "    while len(f) > 1:\n",
    "        c1 = f.pop(0)\n",
    "        c2 = f.pop(0)\n",
    "        novo_node = {'valor':c1['valor']+c2['valor'], 'prob':c1['prob']+c2['prob'], 'filho_0':c1, 'filho_1': c2}\n",
    "        \n",
    "        f.insert(0, novo_node)\n",
    "        f.sort(key=get_prob)\n",
    "\n",
    "    return f[0]\n",
    "\n",
    "from pprint import pprint\n",
    "pprint(huffman_tree(\"BATMAN\"))"
   ]
  },
  {
   "attachments": {},
   "cell_type": "markdown",
   "metadata": {},
   "source": [
    "## Exercício 4\n",
    "*Objetivo: realizar manualmente a codificação e a decodificação usando código de huffman*\n",
    "\n",
    "Uma vez que temos a árvore de codificação de huffman, vamos, de fato, criar um código.\n",
    "\n",
    "Para chegar da raiz da árvore até um nó-folha, precisamos passar por um caminho em que temos que decidir por ir pelo `filho_0` ou pelo `filho_1`. O código referente a cada caractere é o caminho que fizemos para chegar até ele, sendo que cada passagem por `filho_0` é um bit 0, e cada passagem por `filho_1` é um bit 1. Por exemplo, na árvore abaixo:\n",
    "\n",
    "<img src=\"arvore_huffman.jpg\" height=400 />\n",
    "\n",
    "teríamos as codificações:\n",
    "\n",
    "| Símbolo | Código |\n",
    "| --- | --- |\n",
    "| A | 1 |\n",
    "| B | 01 |\n",
    "| C | 00 |\n",
    "\n",
    "portanto, uma sequência ABC seria codificada para 10100.\n",
    "\n",
    "Da mesma forma, um código pode ser lido simplesmente seguindo a árvore. Ao receber, por exemplo, 100, primeiro fazemos o caminho na árvore com o bit 1, e isso nos dá o caractere A. Como temos um caractere, voltamos para o começo. Recebemos o bit 0, e chegamos a um nó não-folha, e depois um outro bit 0, e então chegamos a um nó-folha correspondendo ao caractere C, e, portanto, a mensagem é AC.\n",
    "\n",
    "1. Como seria a codificação da sequência AABCB?\n",
    "1. Qual sequência corresponde ao código 1010010100?\n",
    "1. Usando a árvore que você criou para a palavra BANANA, encontre a codificação para a palavra BANANA. Faça o mesmo para BATMAN e ABACATE.\n",
    "1. Crie uma codificação para a palvra BATMAN e use para codificar a palavra BANANA. Qual foi a sequência de bits encontrada?\n"
   ]
  },
  {
   "attachments": {},
   "cell_type": "markdown",
   "metadata": {},
   "source": [
    "## Exercício 5\n",
    "*Objetivo: verificar o efeito de compressibilidade do código de huffman*\n",
    "\n",
    "Se temos cinco caracteres no nosso alfabeto, tipicamente precisamos de três bits para representar cada caracteres.\n",
    "\n",
    "1. Usando o procedimento que fizemos até agora, encontre a codificação de Huffman para a palavra ABACATE.\n",
    "1. Quantos bits essa codificação tem? (resposta esperada: 15 bits)\n",
    "1. Quantos bits são necessários para codificar ABACATE sem usar o código de Huffman? (resposta esperada: 21 bits)\n"
   ]
  },
  {
   "attachments": {},
   "cell_type": "markdown",
   "metadata": {},
   "source": [
    "## Exercício 6\n",
    "*Objetivo: usar o conceito de entropia no contexto de compressão*\n",
    "\n",
    "É um ponto razoavelmente pacífico dizer que a sequência AAAAAAA é mais simples que ABCDEFG. Mesmo que ambas tenham o mesmo tamanho, AAAAAAA tem somente a repetição de um caractere, ao passo que ABCDEFG tem caracteres diferentes que nunca se repetem.\n",
    "\n",
    "1. Uma sequência mais previsível, isto é, que tende a repetir mais elementos, é mais compressível ou menos compressível ao usarmos códigos de Huffman?\n",
    "1. Uma sequência menos previsível, isto é, que não repete muito seus elementos, é mais compressível ou menos compressível ao usarmos códigos de Huffman?\n",
    "1. Uma sequência mais previsível tem entropia alta ou baixa?\n",
    "1. Como a entropia deve se relacionar com a compressibilidade?\n",
    "1. A *entropia de uma sequência* é usada como um limite inferior para o número de bits que devem ser usados para representá-la. Calcule a entropia das palavras BATMAN, BANANA e ABACATE e compare com o tamanho das sequências que encontramos usando os códigos de Huffman."
   ]
  },
  {
   "cell_type": "code",
   "execution_count": 6,
   "metadata": {},
   "outputs": [
    {
     "data": {
      "text/plain": [
       "8.75488750216347"
      ]
     },
     "execution_count": 6,
     "metadata": {},
     "output_type": "execute_result"
    }
   ],
   "source": [
    "import numpy as np\n",
    "import scipy.stats as stats\n",
    "palavra = \"BANANA\"\n",
    "probs = np.array(  [palavra.count(w) for w in set(palavra)])/len(palavra)\n",
    "E = stats.entropy(probs, base=2)\n",
    "E*len(palavra)"
   ]
  },
  {
   "attachments": {},
   "cell_type": "markdown",
   "metadata": {},
   "source": [
    "# Parte 2\n",
    "\n",
    "## Exercício 7\n",
    "*Objetivo: entender o que significa um erro em uma cadeia*\n",
    "\n",
    "Vamos partir agora da palavra BANANA. \n",
    "\n",
    "1. Como essa cadeia seria representada usando uma compressão por código de Huffman?\n",
    "1. Escolha aleatoriamente um bit e mude na cadeia. Qual seria a palavra encontrada na descompressão?\n"
   ]
  },
  {
   "attachments": {},
   "cell_type": "markdown",
   "metadata": {},
   "source": [
    "## Exercício 8\n",
    "*Objetivo: entender o que é redundância*\n",
    "\n",
    "Vamos usar uma outra ideia. Agora, cada bit da sequência de BANANA passará a ser representado por dois bits, isto é, se a sequência fosse 101, ela passará a ser 110011. Neste caso:\n",
    "\n",
    "1. O que acontece com a taxa de compressão que conseguimos usando o código de Huffman?\n",
    "1. É possível detectar que um bit foi mudado aleatoriamente?\n",
    "1. É possível corrigir o bit que foi mudado aleatoriamente?\n",
    "1. Responda as perguntas 1, 2 e 3, desta vez para o caso de usarmos três bits para representar cada bit, isto é, uma sequência 101 será representada por 111000111.\n",
    "1. No caso da codificação de três bits, é possível detectar que dois bits foram mudados aleatoriamente? E no caso da codificação de dois bits?"
   ]
  },
  {
   "attachments": {},
   "cell_type": "markdown",
   "metadata": {},
   "source": [
    "## Exercício 9\n",
    "*Objetivo: entender o que é um bit de paridade e como usá-lo*\n",
    "\n",
    "Uma outra ideia para detectar bits que foram mudados é usar um bit de paridade. A ideia do bit de paridade é que anexar um bit adicional a nossa sequência de bits. Esse bit adicional é igual a 1 se o número de bits \"1\" na sequência original for ímpar, e zero caso contrário.\n",
    "\n",
    "Por exemplo, a cadeia 101 se tornaria 1010.\n",
    "\n",
    "1. Qual seria o bit de paridade da sequência da palavra BANANA?\n",
    "1. Como o bit de paridade permitiria detectar erros de um bit na palavra BANANA?"
   ]
  },
  {
   "attachments": {},
   "cell_type": "markdown",
   "metadata": {},
   "source": [
    "## Exercício 10\n",
    "*Objetivo: encontrar bits de paridade em subsequências e usá-los para detectar erros*\n",
    "\n",
    "À partir deste exercício, vamos encontrar bits de paridade em cadeias de tamanho fixo de 7 bits. O motivo desta escolha é mantermos a simplicidade na explicação.\n",
    "\n",
    "Vamos partir da sequência: `1010111`, e numeraremos nossos bits de 0 a 6 (isto é, nossos bits podem ser representados por uma sequência). Agora, vamos calcular três bits de paridade diferentes:\n",
    "\n",
    "* O primeiro bit de paridade se refere aos bits 0, 2, 4 e 6 da sequência de bits original,\n",
    "* O segundo bit de paridade se refere aos bits 1, 2, 5 e 6\n",
    "* O terceiro bit de paridade se refere aos bits 3, 4, 5, 6.\n",
    "\n",
    "Ao recebermos nossa sequência, podemos checar cada um desses bits de paridade. Daí:\n",
    "\n",
    "* Se não houver erro, todos os bits de paridade estarão corretos em relação à sequência. \n",
    "* Se houver erro no bit 0, então o primeiro bit de paridade acusará erro, mas os outros não acusarão.\n",
    "* Se houver erro no bit 1, então o segundo bit de paridade acusará erro, mas os outros não acusarão.\n",
    "\n",
    "Seguindo esse raciocínio, complete a tabela abaixo para os bits 2, 3, 4, 5, e 6.\n",
    "\n",
    "| Bit corrompido | Bits de paridade |\n",
    "| --- | --- |\n",
    "| Sem erro | CCC |\n",
    "| 0 | CCE |\n",
    "| 1 | CEC |\n",
    "| 2 |  |\n",
    "| 3 |  |\n",
    "| 4 |  |\n",
    "| 5 |  |\n",
    "| 6 |  |"
   ]
  },
  {
   "attachments": {},
   "cell_type": "markdown",
   "metadata": {},
   "source": [
    "# Parte 3"
   ]
  },
  {
   "attachments": {},
   "cell_type": "markdown",
   "metadata": {},
   "source": [
    "## Exercício 11\n",
    "*Objetivo: programar um codigo de detecção de erros*\n",
    "\n",
    "Complete o código abaixo para gerar os bits de paridade de subsequências e para detectar os erros em uma sequência de bits de dados usando o processo que discutimos acima. Use as representações que achar mais adequado."
   ]
  },
  {
   "cell_type": "code",
   "execution_count": 7,
   "metadata": {},
   "outputs": [],
   "source": [
    "def paridades(bits):\n",
    "    paridade_1 = (bits[0] + bits[2] + bits[4] + bits[6]) % 2\n",
    "    paridade_2 = (bits[1] + bits[2] + bits[5] + bits[6]) % 2\n",
    "    paridade_3 = (bits[3] + bits[4] + bits[5] + bits[6]) % 2\n",
    "    return [paridade_1, paridade_2, paridade_3]\n",
    "\n",
    "\n",
    "def detectar_erro(bits_de_dados, bits_de_paridade):\n",
    "    paridades_calculadas = paridades(bits_de_dados)\n",
    "    if paridades_calculadas == bits_de_paridade:\n",
    "        return -1\n",
    "    \n",
    "    bit_errado = 0\n",
    "    for i in range(len(bits_de_paridade)):\n",
    "        if paridades_calculadas[i] != bits_de_paridade[i]:\n",
    "            bit_errado += 2**i\n",
    "        \n",
    "    return bit_errado"
   ]
  },
  {
   "attachments": {},
   "cell_type": "markdown",
   "metadata": {},
   "source": [
    "## Exerício 12\n",
    "*Objetivo: extrapolar o processo de correção de erro para mais bits*\n",
    "\n",
    "1. No exercício 10, quantos casos de correção de erro tivemos, incluindo o caso de não haver erro?\n",
    "1. Caso tivéssemos uma cadeia de 15 bits de dados, quantos bits de paridade precisaríamos?\n",
    "1. Quantos bits de dados conseguimos proteger de erros usando 5 bits de paridade?"
   ]
  },
  {
   "attachments": {},
   "cell_type": "markdown",
   "metadata": {},
   "source": [
    "## Exercício 13\n",
    "*Objetivo: refletir sobre o código de Hamming*\n",
    "\n",
    "Segundo uma lenda, há muito tempo atrás, uma rainha governava um reino cercado por sete vizinhos. Em seu aniversário de 50 anos, a rainha recebeu uma garrafa de vinho de cada um de seus vizinhos. Porém, ela foi alertada de que uma das garrafas fora amaldiçoada, e quem a tomasse teria uma grande dor de barriga no dia seguinte.\n",
    "\n",
    "A rainha convocou três valentes mosqueteiros em sua guarda real e, no dia seguinte, descobriu qual dos reinos vizinhos a havia traído.\n",
    "\n",
    "Como a rainha fez isso?"
   ]
  }
 ],
 "metadata": {
  "kernelspec": {
   "display_name": "math",
   "language": "python",
   "name": "python3"
  },
  "language_info": {
   "codemirror_mode": {
    "name": "ipython",
    "version": 3
   },
   "file_extension": ".py",
   "mimetype": "text/x-python",
   "name": "python",
   "nbconvert_exporter": "python",
   "pygments_lexer": "ipython3",
   "version": "3.10.9"
  },
  "orig_nbformat": 4,
  "vscode": {
   "interpreter": {
    "hash": "24edab667c607da83a3d505005d55d4e90494c095c6ef50356b97a3f44559d3d"
   }
  }
 },
 "nbformat": 4,
 "nbformat_minor": 2
}
