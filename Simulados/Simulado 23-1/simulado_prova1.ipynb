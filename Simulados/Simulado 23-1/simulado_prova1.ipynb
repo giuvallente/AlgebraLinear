{
 "cells": [
  {
   "cell_type": "code",
   "execution_count": 2,
   "metadata": {},
   "outputs": [],
   "source": [
    "import numpy as np"
   ]
  },
  {
   "attachments": {},
   "cell_type": "markdown",
   "metadata": {},
   "source": [
    "# Simulado para a prova"
   ]
  },
  {
   "attachments": {},
   "cell_type": "markdown",
   "metadata": {},
   "source": [
    "## Exercício 1\n",
    "\n",
    "Dadas as matrizes:\n",
    "\n",
    "$$\n",
    "A = \\begin{bmatrix} 0 & 1\\\\ 2 & 3 \\end{bmatrix} \\\\\n",
    "\n",
    "B = \\begin{bmatrix} 7 & 9\\\\ 23 & -1 \\end{bmatrix}\n",
    "$$\n",
    "\n",
    "calcule:\n",
    "\n",
    "1. $AB$\n",
    "1. $BA$\n",
    "1. $A \\odot B$\n",
    "1. $A^TB$\n",
    "1. $AB^{-1}$\n",
    "\n",
    "$(AB)^T = B^T A^T$\n"
   ]
  },
  {
   "cell_type": "code",
   "execution_count": 3,
   "metadata": {},
   "outputs": [
    {
     "name": "stdout",
     "output_type": "stream",
     "text": [
      "[[23 -1]\n",
      " [83 15]]\n",
      "[[18 34]\n",
      " [-2 20]]\n",
      "[[ 0  9]\n",
      " [46 -3]]\n",
      "[[46 -2]\n",
      " [76  6]]\n",
      "[[ 0.10747664 -0.03271028]\n",
      " [ 0.3317757  -0.01401869]]\n",
      "[[23 83]\n",
      " [-1 15]]\n",
      "[[23 83]\n",
      " [-1 15]]\n"
     ]
    }
   ],
   "source": [
    "a = np.array([[0, 1],\n",
    "              [2, 3]])\n",
    "\n",
    "b = np.array([[7, 9],\n",
    "              [23, -1]])\n",
    "\n",
    "eq1 = a @ b\n",
    "eq2 = b @ a\n",
    "eq3 = a * b\n",
    "eq4 = a.T @ b\n",
    "eq5 = a @ np.linalg.inv(b)\n",
    "\n",
    "part1 = eq1.T \n",
    "part2 = b.T @ a.T\n",
    "\n",
    "print(eq1)\n",
    "print(eq2)\n",
    "print(eq3)\n",
    "print(eq4)\n",
    "print(eq5)\n",
    "print(part1)\n",
    "print(part2)"
   ]
  },
  {
   "attachments": {},
   "cell_type": "markdown",
   "metadata": {},
   "source": [
    "# Exercício 2\n",
    "\n",
    "Eu tenho uma núvem de pontos que está em um quadrado cujo centro é o ponto $(-2,3)$. Qual é a matriz que transforma essa núvem de pontos em uma núvem semelhante, rotacionada de 30 graus no sentido anti-horário, centrada em $(5,5)$? Se precisar, use coordenadas homogêneas!"
   ]
  },
  {
   "attachments": {},
   "cell_type": "markdown",
   "metadata": {},
   "source": [
    "$$\n",
    "R = \n",
    "\\begin{bmatrix}\n",
    "    \\cos(\\theta) & -\\sin(\\theta) & 0 \\\\\n",
    "    \\sin(\\theta) & \\cos(\\theta) & 0 \\\\\n",
    "    0 & 0 & 1\n",
    "\\end{bmatrix}\n",
    "$$\n",
    "\n",
    "$$\n",
    "T = \n",
    "\\begin{bmatrix}\n",
    "    1 & 0 & \\Delta x \\\\\n",
    "    0 & 1 & \\Delta y \\\\\n",
    "    0 & 0 & 1\n",
    "\\end{bmatrix}\n",
    "$$"
   ]
  },
  {
   "cell_type": "code",
   "execution_count": null,
   "metadata": {},
   "outputs": [],
   "source": []
  },
  {
   "attachments": {},
   "cell_type": "markdown",
   "metadata": {},
   "source": [
    "# Exercício 3\n",
    "\n",
    "Quatro amigos foram a uma lanchonete, e fizeram os seguintes pedidos:\n",
    "\n",
    "* 1 x-salada e 1 suco de laranja, no total de R$10,00,\n",
    "* 2 x-salada e 2 suco de laranja, no total de R$20,00,\n",
    "* 2 x-salada e 1 suco de laranja, no total de R$13,00,\n",
    "* 4 x-salada e 2 suco de laranja, no total de R$26,00.\n",
    "\n",
    "\n",
    "1. Qual é o preço do x-salada?\n",
    "1. Qual é o preço do suco de laranja?\n",
    "1. Qual é o valor de uma compra de 1 x-salada e 2 sucos de laranja?\n"
   ]
  },
  {
   "cell_type": "code",
   "execution_count": 5,
   "metadata": {},
   "outputs": [
    {
     "name": "stdout",
     "output_type": "stream",
     "text": [
      "[[3.]\n",
      " [7.]]\n",
      "[[17.]]\n"
     ]
    }
   ],
   "source": [
    "#Parte 1 - Qual é o preço do x-salada e do suco de laranja?\n",
    "\n",
    "pedidos = np.array([[1, 1],\n",
    "                    [2, 1]])\n",
    "\n",
    "total = np.array([[10],\n",
    "                   [13]])\n",
    "\n",
    "precos = np.linalg.solve(pedidos, total)\n",
    "print(precos)\n",
    "\n",
    "\n",
    "#Parte 2 - Qual é o valor de uma compra de 1 x-salada e 2 sucos de laranja?\n",
    "\n",
    "compra = np.array([[1, 2]])\n",
    "preco = compra @ precos\n",
    "print(preco)"
   ]
  },
  {
   "attachments": {},
   "cell_type": "markdown",
   "metadata": {},
   "source": [
    "# Exercício 4\n",
    "\n",
    "Cada real investido na empresa E1 deu um retorno de 50 centavos ao fim de um ano. Cada real investido na empresa E2 deu um retorno de 10 centavos ao fim de um ano. Uma corretora propôs duas carteiras: C1, em que cada real é dividido igualmente entre as empresas E1 e E2, e C2, que tem 75% de aplicação na empresa E1 e 25% na empresa E2.\n",
    "\n",
    "1. Se um investidor tem 5000 reais investidos na carteira C1 e 1000 na carteira C2, qual é o seu investimento nas empresas E1 e E2?\n",
    "1. Se um investidor tem 2000 reais investidos diretamente na empresa E1, e 2000 reais na empresa E2, qual seria o investimento nas carteiras C1 e C2 equivalente?\n",
    "1. Qual é a matriz que permite transformar investimentos nas empresas E1 e E2 em investimentos nas carteiras C1 e C2?"
   ]
  },
  {
   "attachments": {},
   "cell_type": "markdown",
   "metadata": {},
   "source": [
    "$$\n",
    "E_1 = 0.5 C_1 + 0.75 C_2 \\\\\n",
    "E_2 = 0.5 C_1 + 0.25 C_2 \n",
    "$$\n",
    "\n",
    "$$\n",
    "E = \\begin{bmatrix} 0.5 & 0.75 \\\\ 0.5 & 0.25 \\end{bmatrix} C\n",
    "$$"
   ]
  },
  {
   "cell_type": "code",
   "execution_count": 7,
   "metadata": {},
   "outputs": [
    {
     "name": "stdout",
     "output_type": "stream",
     "text": [
      "[[3250.]\n",
      " [2750.]]\n",
      "[[4000.]\n",
      " [   0.]]\n"
     ]
    }
   ],
   "source": [
    "#Parte 1 - Se um investidor tem 5000 reais investidos na carteira C1 e 1000 na carteira C2, qual é o seu investimento nas empresas E1 e E2?\n",
    "\n",
    "retorno = np.array([[0.5, 0.75],\n",
    "                    [0.5, 0.25]])\n",
    "\n",
    "carteira = np.array([[5000],\n",
    "                    [1000]])\n",
    "\n",
    "investimentos = retorno @ carteira\n",
    "print(investimentos)\n",
    "\n",
    "\n",
    "#Parte 2 - Se um investidor tem 2000 reais investidos diretamente na empresa E1, e 2000 reais na empresa E2, qual seria o investimento nas carteiras C1 e C2 equivalente?\n",
    "\n",
    "investimento = np.array([[2000], \n",
    "                         [2000]])\n",
    "\n",
    "carteira = np.linalg.inv(retorno) @  investimento\n",
    "print(carteira)"
   ]
  },
  {
   "attachments": {},
   "cell_type": "markdown",
   "metadata": {},
   "source": [
    "# Exercício 5\n",
    "\n",
    "Escreva o vetor $x$ tal que:\n",
    "\n",
    "$$\n",
    "\\begin{bmatrix} -5 \\\\ 3 \\end{bmatrix} = \\begin{bmatrix} 0 & 1\\\\ 2 & 3 \\end{bmatrix} x\n",
    "$$"
   ]
  },
  {
   "cell_type": "code",
   "execution_count": 6,
   "metadata": {},
   "outputs": [
    {
     "name": "stdout",
     "output_type": "stream",
     "text": [
      "[[ 9.]\n",
      " [-5.]]\n"
     ]
    }
   ],
   "source": [
    "a = np.array([[-5],\n",
    "              [3]])\n",
    "\n",
    "b = np.array([[0, 1],\n",
    "              [2, 3]])\n",
    "\n",
    "x = np.linalg.inv(b) @ a\n",
    "print(x)"
   ]
  },
  {
   "attachments": {},
   "cell_type": "markdown",
   "metadata": {},
   "source": [
    "# Exercício 6\n",
    "\n",
    "\n",
    "Olhando uma foto do mapa em satélite da região próxima à Vila Olímpia, vemos a seguinte situação:\n",
    "\n",
    "* O Insper, que está na latitude/longitude `[-23.59857192474643, -46.67653800340679]`, está no pixel `(400, 100)`.\n",
    "* A escola Móbile, originalmente em `[-23.598451299397993, -46.66985259860919]`, está no pixel `(400, 200)`.\n",
    "* O cachorródromo do parque Ibirapuera, que fica em `[-23.59247353738838, -46.66154847926121]`, está no pixel `(200, 400)`\n",
    "\n",
    "Em que pixel deve aparecer o Burguer King, que fica na esquina da Avenida Santo Amaro com a Hélio Pelegrino, na latitude/longitude `[-23.597723757411057, -46.67377935273308]`?"
   ]
  },
  {
   "cell_type": "code",
   "execution_count": null,
   "metadata": {},
   "outputs": [],
   "source": []
  }
 ],
 "metadata": {
  "kernelspec": {
   "display_name": "base",
   "language": "python",
   "name": "python3"
  },
  "language_info": {
   "codemirror_mode": {
    "name": "ipython",
    "version": 3
   },
   "file_extension": ".py",
   "mimetype": "text/x-python",
   "name": "python",
   "nbconvert_exporter": "python",
   "pygments_lexer": "ipython3",
   "version": "3.10.9"
  },
  "orig_nbformat": 4
 },
 "nbformat": 4,
 "nbformat_minor": 2
}
